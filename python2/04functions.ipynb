{
 "cells": [
  {
   "cell_type": "markdown",
   "id": "3b79d478-aef2-45ea-a820-f7f11a9d99ca",
   "metadata": {},
   "source": [
    "# Functions"
   ]
  },
  {
   "cell_type": "code",
   "execution_count": 1,
   "id": "17f50caa-8310-43ea-93ca-fedb47c63a9c",
   "metadata": {},
   "outputs": [],
   "source": [
    "# print(), len(), glob.glob(), etc.\n",
    "def print_greeting():\n",
    "    print('Hello')"
   ]
  },
  {
   "cell_type": "code",
   "execution_count": 2,
   "id": "acf78875-caf0-462c-935e-a6fa60288fa5",
   "metadata": {},
   "outputs": [
    {
     "name": "stdout",
     "output_type": "stream",
     "text": [
      "Hello\n"
     ]
    }
   ],
   "source": [
    "print_greeting()"
   ]
  },
  {
   "cell_type": "code",
   "execution_count": 3,
   "id": "181deea2-6d10-4dbf-ab8f-095919918272",
   "metadata": {},
   "outputs": [
    {
     "name": "stdout",
     "output_type": "stream",
     "text": [
      "Hello\n"
     ]
    }
   ],
   "source": [
    "result = print_greeting()"
   ]
  },
  {
   "cell_type": "code",
   "execution_count": 4,
   "id": "39dbc324-5b91-40b4-a569-0f38a8e5f475",
   "metadata": {},
   "outputs": [
    {
     "data": {
      "text/plain": [
       "NoneType"
      ]
     },
     "execution_count": 4,
     "metadata": {},
     "output_type": "execute_result"
    }
   ],
   "source": [
    "type(result)"
   ]
  },
  {
   "cell_type": "code",
   "execution_count": 5,
   "id": "10bd19d2-ba3e-4eda-8e43-a03eb0740713",
   "metadata": {},
   "outputs": [],
   "source": [
    "def print_date(year, month, day):\n",
    "    joined = str(year) + '/' + str(month) + '/' + str(day)\n",
    "    print(joined)"
   ]
  },
  {
   "cell_type": "code",
   "execution_count": 6,
   "id": "2ca9cb4c-a796-4ef5-b70f-1b69acc57456",
   "metadata": {},
   "outputs": [
    {
     "name": "stdout",
     "output_type": "stream",
     "text": [
      "2021/8/24\n"
     ]
    }
   ],
   "source": [
    "print_date(2021, 8, 24)"
   ]
  },
  {
   "cell_type": "code",
   "execution_count": 7,
   "id": "ca7053ed-f7fc-4ab6-9b1c-6b6064fcd803",
   "metadata": {},
   "outputs": [
    {
     "name": "stdout",
     "output_type": "stream",
     "text": [
      "2021/8/24\n"
     ]
    }
   ],
   "source": [
    "print_date(day=24, month=8, year=2021)"
   ]
  },
  {
   "cell_type": "code",
   "execution_count": 8,
   "id": "7cbe550c-c4b5-4a9e-88f5-1a00e40cd6e2",
   "metadata": {},
   "outputs": [],
   "source": [
    "def average(values):\n",
    "    if len(values) == 0:\n",
    "        return None\n",
    "    return sum(values) / len(values)"
   ]
  },
  {
   "cell_type": "code",
   "execution_count": 9,
   "id": "9c7215b2-2dd1-46bf-956d-18906daebb33",
   "metadata": {},
   "outputs": [],
   "source": [
    "a = average([1, 3, 4])"
   ]
  },
  {
   "cell_type": "code",
   "execution_count": 10,
   "id": "146333ac-f0a8-4706-a248-138435edef9e",
   "metadata": {},
   "outputs": [
    {
     "data": {
      "text/plain": [
       "2.6666666666666665"
      ]
     },
     "execution_count": 10,
     "metadata": {},
     "output_type": "execute_result"
    }
   ],
   "source": [
    "a"
   ]
  },
  {
   "cell_type": "code",
   "execution_count": 11,
   "id": "385b228c-db90-427d-99f4-c02e65d39186",
   "metadata": {},
   "outputs": [],
   "source": [
    "b = average([])"
   ]
  },
  {
   "cell_type": "code",
   "execution_count": 12,
   "id": "8f85ec01-5935-40a9-b248-03a3184cf73a",
   "metadata": {},
   "outputs": [
    {
     "data": {
      "text/plain": [
       "NoneType"
      ]
     },
     "execution_count": 12,
     "metadata": {},
     "output_type": "execute_result"
    }
   ],
   "source": [
    "type(b)"
   ]
  },
  {
   "cell_type": "code",
   "execution_count": 13,
   "id": "f0eb6491-7480-4f0a-bc3f-12bf73e4a960",
   "metadata": {},
   "outputs": [
    {
     "data": {
      "text/plain": [
       "float"
      ]
     },
     "execution_count": 13,
     "metadata": {},
     "output_type": "execute_result"
    }
   ],
   "source": [
    "type(a)"
   ]
  },
  {
   "cell_type": "code",
   "execution_count": 14,
   "id": "9d66269f-cb1c-4fc7-9b70-f07526d59249",
   "metadata": {},
   "outputs": [],
   "source": [
    "def average(values):\n",
    "    l = len(values)\n",
    "    if l == 0:\n",
    "        return None\n",
    "    return sum(values) / len(values)"
   ]
  },
  {
   "cell_type": "code",
   "execution_count": 15,
   "id": "e02d8f8b-8d0d-4412-9766-a40c32001990",
   "metadata": {},
   "outputs": [
    {
     "data": {
      "text/plain": [
       "2.0"
      ]
     },
     "execution_count": 15,
     "metadata": {},
     "output_type": "execute_result"
    }
   ],
   "source": [
    "average([1,2,3])"
   ]
  },
  {
   "cell_type": "code",
   "execution_count": 16,
   "id": "e5ef513f-bdd2-4262-b6bc-257f66eb176c",
   "metadata": {},
   "outputs": [
    {
     "ename": "NameError",
     "evalue": "name 'l' is not defined",
     "output_type": "error",
     "traceback": [
      "\u001b[0;31m---------------------------------------------------------------------------\u001b[0m",
      "\u001b[0;31mNameError\u001b[0m                                 Traceback (most recent call last)",
      "\u001b[0;32m<ipython-input-16-cde25b5e10ad>\u001b[0m in \u001b[0;36m<module>\u001b[0;34m\u001b[0m\n\u001b[0;32m----> 1\u001b[0;31m \u001b[0ml\u001b[0m\u001b[0;34m\u001b[0m\u001b[0;34m\u001b[0m\u001b[0m\n\u001b[0m",
      "\u001b[0;31mNameError\u001b[0m: name 'l' is not defined"
     ]
    }
   ],
   "source": [
    "l"
   ]
  },
  {
   "cell_type": "code",
   "execution_count": 17,
   "id": "b1459036-1d4c-4c30-b61e-3ebaf847a2c2",
   "metadata": {},
   "outputs": [],
   "source": [
    "outer = 'limits'\n",
    "def average(values):\n",
    "    l = len(values)\n",
    "    outer = 'inner'\n",
    "    if l == 0:\n",
    "        return None\n",
    "    return sum(values) / len(values)"
   ]
  },
  {
   "cell_type": "code",
   "execution_count": 18,
   "id": "4e8b9932-841b-4ee1-85d7-acac205649d0",
   "metadata": {},
   "outputs": [
    {
     "data": {
      "text/plain": [
       "'limits'"
      ]
     },
     "execution_count": 18,
     "metadata": {},
     "output_type": "execute_result"
    }
   ],
   "source": [
    "outer"
   ]
  },
  {
   "cell_type": "code",
   "execution_count": 19,
   "id": "a9e2e65e-e5e2-4d7c-9da3-84e7dcac5786",
   "metadata": {},
   "outputs": [
    {
     "data": {
      "text/plain": [
       "3.3333333333333335"
      ]
     },
     "execution_count": 19,
     "metadata": {},
     "output_type": "execute_result"
    }
   ],
   "source": [
    "average([1,4,5])"
   ]
  },
  {
   "cell_type": "code",
   "execution_count": 20,
   "id": "523e0bdb-0106-494b-b838-3154ca00d884",
   "metadata": {},
   "outputs": [
    {
     "data": {
      "text/plain": [
       "'limits'"
      ]
     },
     "execution_count": 20,
     "metadata": {},
     "output_type": "execute_result"
    }
   ],
   "source": [
    "outer"
   ]
  },
  {
   "cell_type": "code",
   "execution_count": null,
   "id": "b61a8259-6281-47c5-995d-3321ab6a375a",
   "metadata": {},
   "outputs": [],
   "source": []
  }
 ],
 "metadata": {
  "kernelspec": {
   "display_name": "Python 3",
   "language": "python",
   "name": "python3"
  },
  "language_info": {
   "codemirror_mode": {
    "name": "ipython",
    "version": 3
   },
   "file_extension": ".py",
   "mimetype": "text/x-python",
   "name": "python",
   "nbconvert_exporter": "python",
   "pygments_lexer": "ipython3",
   "version": "3.8.8"
  }
 },
 "nbformat": 4,
 "nbformat_minor": 5
}
